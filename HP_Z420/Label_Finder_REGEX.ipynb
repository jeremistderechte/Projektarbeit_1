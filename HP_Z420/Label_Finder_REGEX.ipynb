{
 "cells": [
  {
   "cell_type": "code",
   "execution_count": 128,
   "id": "bb8bcafb",
   "metadata": {},
   "outputs": [],
   "source": [
    "import pickle\n",
    "import pandas as pd\n",
    "import string\n",
    "import re\n",
    "\n",
    "data = pd.read_csv(\"./twitterDataCleaned.csv\")[\"text\"]\n",
    "\n",
    "with open('index', \"rb\") as f:\n",
    "    indexList = pickle.load(f)\n",
    "    \n",
    "with open('label', \"rb\") as f:\n",
    "    labelList = pickle.load(f)\n",
    "    \n",
    "dataframeLabelTwitter = pd.DataFrame(columns=[\"sentence\", \"labels\"])    \n",
    "    \n",
    "\n",
    "sentenceList = []\n",
    "for index in indexList:\n",
    "    sentenceList.append(data.iloc[index])\n",
    "\n",
    "dataframeLabelTwitter[\"sentence\"] = sentenceList\n",
    "dataframeLabelTwitter[\"labels\"] = labelList       "
   ]
  },
  {
   "cell_type": "code",
   "execution_count": 129,
   "id": "77f38824",
   "metadata": {},
   "outputs": [
    {
     "data": {
      "text/plain": [
       "1000"
      ]
     },
     "execution_count": 129,
     "metadata": {},
     "output_type": "execute_result"
    }
   ],
   "source": [
    "len(dataframeLabelTwitter[\"labels\"])"
   ]
  },
  {
   "cell_type": "code",
   "execution_count": 130,
   "id": "19a749c7",
   "metadata": {},
   "outputs": [],
   "source": [
    "sentenceList = []\n",
    "rangeList = []\n",
    "\n",
    "for label, sentence in zip(dataframeLabelTwitter[\"labels\"], dataframeLabelTwitter[\"sentence\"]):\n",
    "    tempList = []\n",
    "    tempList = label.split(\", \")\n",
    "    \n",
    "    sentence = re.sub(\"\\^\", \"^ \", str(sentence))\n",
    "    sentence = re.sub(\"-\", \" - \", str(sentence))\n",
    "    sentence = re.sub(\"\\~\", \"~ \", str(sentence))    \n",
    "    sentence = ' '.join(sentence.split())\n",
    "    \n",
    "    \n",
    "    \n",
    "    if not (tempList[0] == \"\"):\n",
    "        outerRange = []\n",
    "        sentenceList.append(sentence)\n",
    "        for name in tempList:\n",
    "            for match in re.finditer(name, sentence):\n",
    "                tempRange = []\n",
    "                tempRange.append(match.start())\n",
    "                tempRange.append(match.end())\n",
    "                outerRange.append(tempRange)      \n",
    "        rangeList.append(outerRange)\n",
    "\n",
    "    else:\n",
    "        sentenceList.append(sentence)\n",
    "        rangeList.append(\"\")\n",
    "\n",
    "        "
   ]
  },
  {
   "cell_type": "code",
   "execution_count": 131,
   "id": "1270cefd",
   "metadata": {},
   "outputs": [],
   "source": [
    "dataframeLabelTwitter[\"sentence\"] = sentenceList\n",
    "dataframeLabelTwitter[\"ranges\"] = rangeList"
   ]
  },
  {
   "cell_type": "code",
   "execution_count": 132,
   "id": "93b1c5d6",
   "metadata": {},
   "outputs": [
    {
     "data": {
      "text/html": [
       "<div>\n",
       "<style scoped>\n",
       "    .dataframe tbody tr th:only-of-type {\n",
       "        vertical-align: middle;\n",
       "    }\n",
       "\n",
       "    .dataframe tbody tr th {\n",
       "        vertical-align: top;\n",
       "    }\n",
       "\n",
       "    .dataframe thead th {\n",
       "        text-align: right;\n",
       "    }\n",
       "</style>\n",
       "<table border=\"1\" class=\"dataframe\">\n",
       "  <thead>\n",
       "    <tr style=\"text-align: right;\">\n",
       "      <th></th>\n",
       "      <th>sentence</th>\n",
       "      <th>labels</th>\n",
       "      <th>ranges</th>\n",
       "    </tr>\n",
       "  </thead>\n",
       "  <tbody>\n",
       "    <tr>\n",
       "      <th>9</th>\n",
       "      <td>you can apply for compensation here if you had...</td>\n",
       "      <td>josh</td>\n",
       "      <td>[[99, 103]]</td>\n",
       "    </tr>\n",
       "    <tr>\n",
       "      <th>10</th>\n",
       "      <td>we'd be happy to look into this issue for you....</td>\n",
       "      <td>lindsey</td>\n",
       "      <td>[[100, 107]]</td>\n",
       "    </tr>\n",
       "    <tr>\n",
       "      <th>13</th>\n",
       "      <td>hi andrew. this is great to hear. which train ...</td>\n",
       "      <td>andrew, josh</td>\n",
       "      <td>[[3, 9], [116, 120]]</td>\n",
       "    </tr>\n",
       "    <tr>\n",
       "      <th>16</th>\n",
       "      <td>nora culik</td>\n",
       "      <td>nora culik</td>\n",
       "      <td>[[0, 10]]</td>\n",
       "    </tr>\n",
       "    <tr>\n",
       "      <th>18</th>\n",
       "      <td>we request you to share your alternate contact...</td>\n",
       "      <td>sneha</td>\n",
       "      <td>[[117, 122]]</td>\n",
       "    </tr>\n",
       "    <tr>\n",
       "      <th>...</th>\n",
       "      <td>...</td>\n",
       "      <td>...</td>\n",
       "      <td>...</td>\n",
       "    </tr>\n",
       "    <tr>\n",
       "      <th>928</th>\n",
       "      <td>hey michael, we appreciate your feedback! plea...</td>\n",
       "      <td>michael</td>\n",
       "      <td>[[4, 11]]</td>\n",
       "    </tr>\n",
       "    <tr>\n",
       "      <th>931</th>\n",
       "      <td>our sincerest apologies, dave. be sure to reac...</td>\n",
       "      <td>dave</td>\n",
       "      <td>[[25, 29]]</td>\n",
       "    </tr>\n",
       "    <tr>\n",
       "      <th>939</th>\n",
       "      <td>hi chunhua, we have just responded to your dm ...</td>\n",
       "      <td>chunhua</td>\n",
       "      <td>[[3, 10]]</td>\n",
       "    </tr>\n",
       "    <tr>\n",
       "      <th>942</th>\n",
       "      <td>oh no, jeff. sorry to hear about this terrible...</td>\n",
       "      <td>jeff</td>\n",
       "      <td>[[7, 11]]</td>\n",
       "    </tr>\n",
       "    <tr>\n",
       "      <th>990</th>\n",
       "      <td>hi. please can you dm me your query as i'm str...</td>\n",
       "      <td>chloe</td>\n",
       "      <td>[[80, 85]]</td>\n",
       "    </tr>\n",
       "  </tbody>\n",
       "</table>\n",
       "<p>129 rows × 3 columns</p>\n",
       "</div>"
      ],
      "text/plain": [
       "                                              sentence        labels  \\\n",
       "9    you can apply for compensation here if you had...          josh   \n",
       "10   we'd be happy to look into this issue for you....       lindsey   \n",
       "13   hi andrew. this is great to hear. which train ...  andrew, josh   \n",
       "16                                          nora culik    nora culik   \n",
       "18   we request you to share your alternate contact...         sneha   \n",
       "..                                                 ...           ...   \n",
       "928  hey michael, we appreciate your feedback! plea...       michael   \n",
       "931  our sincerest apologies, dave. be sure to reac...          dave   \n",
       "939  hi chunhua, we have just responded to your dm ...       chunhua   \n",
       "942  oh no, jeff. sorry to hear about this terrible...          jeff   \n",
       "990  hi. please can you dm me your query as i'm str...         chloe   \n",
       "\n",
       "                   ranges  \n",
       "9             [[99, 103]]  \n",
       "10           [[100, 107]]  \n",
       "13   [[3, 9], [116, 120]]  \n",
       "16              [[0, 10]]  \n",
       "18           [[117, 122]]  \n",
       "..                    ...  \n",
       "928             [[4, 11]]  \n",
       "931            [[25, 29]]  \n",
       "939             [[3, 10]]  \n",
       "942             [[7, 11]]  \n",
       "990            [[80, 85]]  \n",
       "\n",
       "[129 rows x 3 columns]"
      ]
     },
     "execution_count": 132,
     "metadata": {},
     "output_type": "execute_result"
    }
   ],
   "source": [
    "dataframeLabelTwitter[dataframeLabelTwitter[\"ranges\"] != \"\"]"
   ]
  },
  {
   "cell_type": "code",
   "execution_count": 133,
   "id": "7f092c3b",
   "metadata": {},
   "outputs": [],
   "source": [
    "dataframeLabelTwitter.to_csv(\"twitter_labeled_dataframe.csv\")"
   ]
  },
  {
   "cell_type": "code",
   "execution_count": null,
   "id": "dbf0654e",
   "metadata": {},
   "outputs": [],
   "source": []
  }
 ],
 "metadata": {
  "kernelspec": {
   "display_name": "Python 3 (ipykernel)",
   "language": "python",
   "name": "python3"
  },
  "language_info": {
   "codemirror_mode": {
    "name": "ipython",
    "version": 3
   },
   "file_extension": ".py",
   "mimetype": "text/x-python",
   "name": "python",
   "nbconvert_exporter": "python",
   "pygments_lexer": "ipython3",
   "version": "3.10.10"
  }
 },
 "nbformat": 4,
 "nbformat_minor": 5
}
